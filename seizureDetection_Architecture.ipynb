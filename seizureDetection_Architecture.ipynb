{
  "cells": [
    {
      "cell_type": "markdown",
      "metadata": {
        "id": "view-in-github",
        "colab_type": "text"
      },
      "source": [
        "<a href=\"https://colab.research.google.com/github/NiloufarAsghari/EpilepsyDetection_VGG16/blob/main/seizureDetection_Architecture.ipynb\" target=\"_parent\"><img src=\"https://colab.research.google.com/assets/colab-badge.svg\" alt=\"Open In Colab\"/></a>"
      ]
    },
    {
      "cell_type": "code",
      "execution_count": null,
      "metadata": {
        "id": "wOWH4iAa2S7x"
      },
      "outputs": [],
      "source": [
        "import tensorflow.compat.v2 as tf\n",
        "\n",
        "from keras import backend\n",
        "from keras.applications import imagenet_utils\n",
        "from keras.engine import training\n",
        "from keras.layers import VersionAwareLayers\n",
        "from keras.utils import data_utils\n",
        "from keras.utils import layer_utils\n",
        "from tensorflow.python.util.tf_export import keras_export\n",
        "import urllib.request\n",
        "import os\n",
        "import zipfile\n",
        "import random\n",
        "from tensorflow.keras.preprocessing.image import ImageDataGenerator\n",
        "from tensorflow.keras import layers\n",
        "from tensorflow.keras import Model\n",
        "from tensorflow.keras.applications.inception_v3 import InceptionV3\n",
        "from tensorflow.keras.optimizers import RMSprop\n",
        "from shutil import copyfile\n",
        "import numpy as np"
      ]
    },
    {
      "cell_type": "markdown",
      "metadata": {
        "id": "jEGjtWSMFKwJ"
      },
      "source": [
        "Mount to Google Drive"
      ]
    },
    {
      "cell_type": "code",
      "execution_count": null,
      "metadata": {
        "colab": {
          "base_uri": "https://localhost:8080/"
        },
        "id": "VkikpL2WFNUo",
        "outputId": "bb8beff9-fdd2-4407-ff80-b368d26e6787"
      },
      "outputs": [
        {
          "output_type": "stream",
          "name": "stdout",
          "text": [
            "Drive already mounted at /content/drive; to attempt to forcibly remount, call drive.mount(\"/content/drive\", force_remount=True).\n"
          ]
        }
      ],
      "source": [
        "from google.colab import drive\n",
        "drive.mount('/content/drive')"
      ]
    },
    {
      "cell_type": "markdown",
      "metadata": {
        "id": "F1cj9nviHu0t"
      },
      "source": [
        "Check and change the directory"
      ]
    },
    {
      "cell_type": "code",
      "execution_count": null,
      "metadata": {
        "colab": {
          "base_uri": "https://localhost:8080/",
          "height": 234
        },
        "id": "JrmdyjC9HwcL",
        "outputId": "274023e1-3d5b-4974-8921-ccbc451e3428"
      },
      "outputs": [
        {
          "output_type": "error",
          "ename": "FileNotFoundError",
          "evalue": "ignored",
          "traceback": [
            "\u001b[0;31m---------------------------------------------------------------------------\u001b[0m",
            "\u001b[0;31mFileNotFoundError\u001b[0m                         Traceback (most recent call last)",
            "\u001b[0;32m<ipython-input-46-469996b4e04a>\u001b[0m in \u001b[0;36m<module>\u001b[0;34m()\u001b[0m\n\u001b[1;32m      1\u001b[0m \u001b[0;32mimport\u001b[0m \u001b[0mos\u001b[0m\u001b[0;34m\u001b[0m\u001b[0;34m\u001b[0m\u001b[0m\n\u001b[0;32m----> 2\u001b[0;31m \u001b[0mos\u001b[0m\u001b[0;34m.\u001b[0m\u001b[0mchdir\u001b[0m\u001b[0;34m(\u001b[0m\u001b[0;34m'drive'\u001b[0m\u001b[0;34m)\u001b[0m \u001b[0;31m#change directory to drive\u001b[0m\u001b[0;34m\u001b[0m\u001b[0;34m\u001b[0m\u001b[0m\n\u001b[0m\u001b[1;32m      3\u001b[0m \u001b[0mos\u001b[0m\u001b[0;34m.\u001b[0m\u001b[0mchdir\u001b[0m\u001b[0;34m(\u001b[0m\u001b[0;34m'MyDrive'\u001b[0m\u001b[0;34m)\u001b[0m \u001b[0;31m#change directory to MyDrive to use Z O N F S files\u001b[0m\u001b[0;34m\u001b[0m\u001b[0;34m\u001b[0m\u001b[0m\n\u001b[1;32m      4\u001b[0m \u001b[0mcwd\u001b[0m \u001b[0;34m=\u001b[0m \u001b[0mos\u001b[0m\u001b[0;34m.\u001b[0m\u001b[0mgetcwd\u001b[0m\u001b[0;34m(\u001b[0m\u001b[0;34m)\u001b[0m  \u001b[0;31m# Get the current working directory (cwd)\u001b[0m\u001b[0;34m\u001b[0m\u001b[0;34m\u001b[0m\u001b[0m\n\u001b[1;32m      5\u001b[0m \u001b[0mfiles\u001b[0m \u001b[0;34m=\u001b[0m \u001b[0mos\u001b[0m\u001b[0;34m.\u001b[0m\u001b[0mlistdir\u001b[0m\u001b[0;34m(\u001b[0m\u001b[0mcwd\u001b[0m\u001b[0;34m)\u001b[0m  \u001b[0;31m# Get all the files in that directory\u001b[0m\u001b[0;34m\u001b[0m\u001b[0;34m\u001b[0m\u001b[0m\n",
            "\u001b[0;31mFileNotFoundError\u001b[0m: [Errno 2] No such file or directory: 'drive'"
          ]
        }
      ],
      "source": [
        "import os\n",
        "os.chdir('drive') #change directory to drive\n",
        "os.chdir('MyDrive') #change directory to MyDrive to use Z O N F S files\n",
        "cwd = os.getcwd()  # Get the current working directory (cwd)\n",
        "files = os.listdir(cwd)  # Get all the files in that directory\n",
        "print(\"Files in %r: %s\" % (cwd, files))"
      ]
    },
    {
      "cell_type": "code",
      "execution_count": null,
      "metadata": {
        "colab": {
          "base_uri": "https://localhost:8080/"
        },
        "id": "0fa5qfwyIIy7",
        "outputId": "d92ef63f-078c-4d50-d4cb-7508293a1cbf"
      },
      "outputs": [
        {
          "output_type": "stream",
          "name": "stdout",
          "text": [
            "100\n",
            "200\n",
            "10\n",
            "20\n"
          ]
        }
      ],
      "source": [
        "print(len(os.listdir('/content/drive/MyDrive/ASeizure_nonSeizure/Seizure')))\n",
        "print(len(os.listdir('/content/drive/MyDrive/ASeizure_nonSeizure/non_Seizure')))\n",
        "print(len(os.listdir('/content/drive/MyDrive/AEpilepsyDetection/Test/Seizure/')))\n",
        "print(len(os.listdir('/content/drive/MyDrive/AEpilepsyDetection/Test/non_Seizure/')))\n",
        "#It should be 100 and 200\n",
        "#0,0\n",
        "#10,20"
      ]
    },
    {
      "cell_type": "code",
      "execution_count": null,
      "metadata": {
        "id": "FRPxWIPfF18n"
      },
      "outputs": [],
      "source": [
        "#Skip\n",
        "#Me: First check if directory exists then remove it\n",
        "import os\n",
        "import shutil\n",
        "\n",
        "if os.path.exists('/content/drive/MyDrive/EpilepsyDetection/') and os.path.isdir('/content/drive/MyDrive/EpilepsyDetection'):\n",
        "    shutil.rmtree('/content/drive/MyDrive/EpilepsyDetection')\n"
      ]
    },
    {
      "cell_type": "code",
      "execution_count": null,
      "metadata": {
        "colab": {
          "base_uri": "https://localhost:8080/"
        },
        "id": "7EOiiWv1Etxa",
        "outputId": "8219e9f6-1b5f-4318-cc17-c115dc58b5cc"
      },
      "outputs": [
        {
          "name": "stdout",
          "output_type": "stream",
          "text": [
            "/tmp/AEpilepsyDetection created\n",
            "/tmp/AEpilepsyDetection/Test created\n",
            "/tmp/AEpilepsyDetection/Train created\n",
            "/tmp/AEpilepsyDetection/Test/Seizure created\n",
            "/tmp/AEpilepsyDetection/Test/non_Seizure created\n",
            "/tmp/AEpilepsyDetection/Train/Seizure created\n",
            "/tmp/AEpilepsyDetection/Train/non_Seizure created\n"
          ]
        }
      ],
      "source": [
        "#Skip\n",
        "\n",
        "# Use os.mkdir to create your directories\n",
        "# You will need a directory for Seizure_non-Seizure, and subdirectories for training\n",
        "# and testing. These in turn will need subdirectories for 'Seizure' and 'non_Seizure' \n",
        "#You can do it directly in Drive\n",
        "\n",
        "\n",
        "to_create = [\n",
        "    '/tmp/AEpilepsyDetection',\n",
        "    '/tmp/AEpilepsyDetection/Test',\n",
        "    '/tmp/AEpilepsyDetection/Train',\n",
        "    '/tmp/AEpilepsyDetection/Test/Seizure',\n",
        "    '/tmp/AEpilepsyDetection/Test/non_Seizure',\n",
        "    '/tmp/AEpilepsyDetection/Train/Seizure',\n",
        "    '/tmp/AEpilepsyDetection/Train/non_Seizure'\n",
        "    \n",
        "]\n",
        "\n",
        "for directory in to_create:\n",
        "    try:\n",
        "        os.mkdir(directory)\n",
        "        print(directory, 'created')\n",
        "    except:\n",
        "        print(directory, 'failed')"
      ]
    },
    {
      "cell_type": "code",
      "execution_count": null,
      "metadata": {
        "id": "5TG4qmZYIdYo"
      },
      "outputs": [],
      "source": [
        "#Skip if it's not the first time\n",
        "#python Function to split data \n",
        "#for example, if SOURCE is Seizure_nonSeizure/Seizure, and SPLIT SIZE is .9\n",
        "# Then 90% of the images in Seizure_nonSeizure/Seizure will be copied to the TRAINING dir\n",
        "# and 10% of the images will be copied to the TESTING dir\n",
        "\n",
        "\n",
        "#OR\n",
        "#you can use sklearn library and use train_test_split directly without writing any function\n",
        "\n",
        "def split_data(SOURCE, TRAINING, TESTING, SPLIT_SIZE):\n",
        "    all_files = []\n",
        "    \n",
        "    for file_name in os.listdir(SOURCE):\n",
        "        file_path = SOURCE + file_name\n",
        "\n",
        "        if os.path.getsize(file_path):\n",
        "            all_files.append(file_name)\n",
        "        else:\n",
        "            print('{} is zero length, so ignoring'.format(file_name))\n",
        "    \n",
        "    n_files = len(all_files)\n",
        "    split_point = int(n_files * SPLIT_SIZE)\n",
        "    \n",
        "    shuffled = random.sample(all_files, n_files)\n",
        "    \n",
        "    train_set = shuffled[:split_point]\n",
        "    test_set = shuffled[split_point:]\n",
        "    \n",
        "    for file_name in train_set:\n",
        "        copyfile(SOURCE + file_name, TRAINING + file_name)\n",
        "        \n",
        "    for file_name in test_set:\n",
        "        copyfile(SOURCE + file_name, TESTING + file_name)\n",
        "\n",
        "Seizure_SOURCE_DIR = r\"/content/drive/MyDrive/ASeizure_nonSeizure/Seizure/\"\n",
        "TRAINING_Seizure_DIR = r\"/content/drive/MyDrive/AEpilepsyDetection/Train/Seizure/\"\n",
        "TESTING_Seizure_DIR = r\"/content/drive/MyDrive/AEpilepsyDetection/Test/Seizure/\"\n",
        "non_Seizure_SOURCE_DIR = r\"/content/drive/MyDrive/ASeizure_nonSeizure/non_Seizure/\"\n",
        "TRAINING_non_Seizure_DIR = r\"/content/drive/MyDrive/AEpilepsyDetection/Train/non_Seizure/\"\n",
        "TESTING_non_Seizure_DIR = r\"/content/drive/MyDrive/AEpilepsyDetection/Test/non_Seizure/\"\n",
        "\n",
        "split_size = .9\n",
        "split_data(Seizure_SOURCE_DIR, TRAINING_Seizure_DIR, TESTING_Seizure_DIR, split_size)\n",
        "split_data(non_Seizure_SOURCE_DIR, TRAINING_non_Seizure_DIR, TESTING_non_Seizure_DIR, split_size)\n"
      ]
    },
    {
      "cell_type": "code",
      "execution_count": null,
      "metadata": {
        "colab": {
          "base_uri": "https://localhost:8080/"
        },
        "id": "pY4LxfgAKRUI",
        "outputId": "f54b054f-ad62-4806-b57c-5885afbce1ee"
      },
      "outputs": [
        {
          "name": "stdout",
          "output_type": "stream",
          "text": [
            "90\n",
            "180\n",
            "10\n",
            "20\n"
          ]
        }
      ],
      "source": [
        "print(len(os.listdir('/content/drive/MyDrive/AEpilepsyDetection/Train/Seizure/')))\n",
        "print(len(os.listdir('/content/drive/MyDrive/AEpilepsyDetection/Train/non_Seizure/')))\n",
        "print(len(os.listdir('/content/drive/MyDrive/AEpilepsyDetection/Test/Seizure/')))\n",
        "print(len(os.listdir('/content/drive/MyDrive/AEpilepsyDetection/Test/non_Seizure/')))\n",
        "#90\n",
        "#180\n",
        "#10\n",
        "#20"
      ]
    },
    {
      "cell_type": "code",
      "execution_count": null,
      "metadata": {
        "colab": {
          "base_uri": "https://localhost:8080/"
        },
        "id": "zqANOEhiK-Sg",
        "outputId": "d3e2cde3-39e0-4723-a9e5-5f48a8b3bf21"
      },
      "outputs": [
        {
          "output_type": "stream",
          "name": "stdout",
          "text": [
            "Model: \"sequential_7\"\n",
            "_________________________________________________________________\n",
            " Layer (type)                Output Shape              Param #   \n",
            "=================================================================\n",
            " conv2d_43 (Conv2D)          (None, 222, 222, 32)      896       \n",
            "                                                                 \n",
            " max_pooling2d_18 (MaxPoolin  (None, 111, 111, 32)     0         \n",
            " g2D)                                                            \n",
            "                                                                 \n",
            " conv2d_44 (Conv2D)          (None, 109, 109, 32)      9248      \n",
            "                                                                 \n",
            " max_pooling2d_19 (MaxPoolin  (None, 54, 54, 32)       0         \n",
            " g2D)                                                            \n",
            "                                                                 \n",
            " conv2d_45 (Conv2D)          (None, 53, 53, 64)        8256      \n",
            "                                                                 \n",
            " max_pooling2d_20 (MaxPoolin  (None, 26, 26, 64)       0         \n",
            " g2D)                                                            \n",
            "                                                                 \n",
            " flatten_6 (Flatten)         (None, 43264)             0         \n",
            "                                                                 \n",
            " dense_17 (Dense)            (None, 512)               22151680  \n",
            "                                                                 \n",
            " dense_18 (Dense)            (None, 1)                 513       \n",
            "                                                                 \n",
            "=================================================================\n",
            "Total params: 22,170,593\n",
            "Trainable params: 22,170,593\n",
            "Non-trainable params: 0\n",
            "_________________________________________________________________\n"
          ]
        }
      ],
      "source": [
        "\"\"\"\n",
        "trdata=ImageDataGenerator()\n",
        "#directory: Our dataset divided into test and training\n",
        "traindata= trdata.flow_from_directory(directory='',target_size=(224,224))\n",
        "tsdata=ImageDataGenerator()\n",
        "testdata= trdata.flow_from_directory(directory='',target_size=(224,224))\n",
        "\"\"\"\n",
        "\n",
        "\n",
        "              #VGG\n",
        "#VGG=tf.keras.applications.VGG16(input_shape=(224,224,3),include_top=True, weights='imagenet')\n",
        "#VGG=tf.keras.applications.VGG16(input_shape=(224,224,3), weights='imagenet')\n",
        "\n",
        "\n",
        "#the entire layers are present inside this. Feature extractor vgg16 is build\n",
        "#VGG.trainable=False\n",
        "\n",
        "#we don't want to trian the front 13 layers and we need train only the last two layers\n",
        "\n",
        "#1 dense 4096\n",
        "#1 dense 32\n",
        "#1 dense softmax 2 units // Sigmoid 1 unit 2 classes \n",
        "\n",
        "\n",
        "\n",
        "#VGG16 using keras\n",
        "\"\"\"\n",
        "model= tf.keras.Sequential([\n",
        "                         VGG,\n",
        "                         tf.keras.layers.Flatten(),\n",
        "                         tf.keras.layers.Dense(units=4096,activation='relu'),\n",
        "                         tf.keras.layers.Dense(units=32,activation='relu'),\n",
        "                         tf.keras.layers.Dropout(0.5),\n",
        "                         tf.keras.layers.Dense(units=1,activation='softmax'),                         \n",
        "])\n",
        "\"\"\"\n",
        "\n",
        "#adam = optimizers.Adam(lr=0.00002, beta_1=0.9, beta_2=0.999, epsilon=0.00000001, decay=0.0, amsgrad=False)\n",
        "#using adam optimizer\n",
        "# learning rate=10^-5 but the original is 10^-3\n",
        "\"\"\"\n",
        "tf.keras.optimizers.Adam(\n",
        "    learning_rate=0.00001, beta_1=0.9, beta_2=0.999, epsilon=1e-07, amsgrad=False,\n",
        "    name='Adam',\n",
        ")\n",
        "\"\"\"\n",
        "\n",
        "\"\"\"\n",
        "model.compile(\n",
        "    #optimizer=RMSprop(lr=0.001),\n",
        "#    optimizer='adam',\n",
        "        optimizer='Adam', #Our Customized Adam optimizer writes just lines above\n",
        "              loss='binary_crossentropy',\n",
        "              #loss=tf.keras.losses.categorical_crossentropy,\n",
        "              #metrics=['accuracy'])\n",
        "              metrics=['acc'])\n",
        "\"\"\"\n",
        "#evalulate the model\n",
        "\n",
        "\"\"\"\n",
        "model.compile(optimizer='adam',\n",
        "              loss=tf.keras.losses.categorical_crossentropy,\n",
        "              metrics=[tf.keras.metrics.TruePositives(),\n",
        "                         tf.keras.metrics.TrueNegatives(),\n",
        "                         tf.keras.metrics.FalsePositives(),\n",
        "                         tf.keras.metrics.FalseNegatives()])\n",
        "\n",
        "\"\"\"\n",
        "\"\"\"\n",
        "\n",
        "\n",
        "model = tf.keras.models.Sequential([\n",
        "    tf.keras.layers.Conv2D(32, (3,3), activation='relu', input_shape=(224, 224, 3)),\n",
        "    tf.keras.layers.MaxPooling2D(2,2),\n",
        "    tf.keras.layers.Conv2D(32, (3,3), activation='relu'),\n",
        "    tf.keras.layers.MaxPooling2D(2,2),\n",
        "    tf.keras.layers.Conv2D(64, (2,2), activation='relu'),\n",
        "    tf.keras.layers.MaxPooling2D(2,2),\n",
        "    tf.keras.layers.Flatten(),\n",
        "    tf.keras.layers.Dense(512, activation='relu'),\n",
        "    tf.keras.layers.Dense(1, activation='sigmoid')\n",
        "])\n",
        "\"\"\"\n",
        "\n",
        "#implement VGG16 From scratch\n",
        "\n",
        "\"\"\"\n",
        "from keras.models import Sequential\n",
        "from keras.layers import Dense, Conv2D, MaxPool2D , Flatten\n",
        "\n",
        "model = Sequential()\n",
        "model.add(Conv2D(input_shape=(224,224,3),filters=64,kernel_size=(3,3),padding=\"same\", activation=\"relu\"))\n",
        "model.add(Conv2D(filters=64,kernel_size=(3,3),padding=\"same\", activation=\"relu\"))\n",
        "model.add(MaxPool2D(pool_size=(2,2),strides=(2,2)))\n",
        "model.add(Conv2D(filters=128, kernel_size=(3,3), padding=\"same\", activation=\"relu\"))\n",
        "model.add(Conv2D(filters=128, kernel_size=(3,3), padding=\"same\", activation=\"relu\"))\n",
        "model.add(MaxPool2D(pool_size=(2,2),strides=(2,2)))\n",
        "model.add(Conv2D(filters=256, kernel_size=(3,3), padding=\"same\", activation=\"relu\"))\n",
        "model.add(Conv2D(filters=256, kernel_size=(3,3), padding=\"same\", activation=\"relu\"))\n",
        "model.add(Conv2D(filters=256, kernel_size=(3,3), padding=\"same\", activation=\"relu\"))\n",
        "model.add(MaxPool2D(pool_size=(2,2),strides=(2,2)))\n",
        "model.add(Conv2D(filters=512, kernel_size=(3,3), padding=\"same\", activation=\"relu\"))\n",
        "model.add(Conv2D(filters=512, kernel_size=(3,3), padding=\"same\", activation=\"relu\"))\n",
        "model.add(Conv2D(filters=512, kernel_size=(3,3), padding=\"same\", activation=\"relu\"))\n",
        "model.add(MaxPool2D(pool_size=(2,2),strides=(2,2)))\n",
        "model.add(Conv2D(filters=512, kernel_size=(3,3), padding=\"same\", activation=\"relu\"))\n",
        "model.add(Conv2D(filters=512, kernel_size=(3,3), padding=\"same\", activation=\"relu\"))\n",
        "model.add(Conv2D(filters=512, kernel_size=(3,3), padding=\"same\", activation=\"relu\"))\n",
        "model.add(MaxPool2D(pool_size=(2,2),strides=(2,2)))\n",
        "model.add(Flatten())\n",
        "model.add(Dense(units=4096,activation=\"relu\"))\n",
        "model.add(Dense(units=512,activation=\"relu\"))\n",
        "model.add(Dense(units=1, activation=\"softmax\"))   # 1 for 2 class wich is 'Seizure' and 'non-Seizure'\n",
        "\n",
        "\n",
        "#opt = tf.keras.optimizers.Adam(lr=0.001)\n",
        "model.compile(optimizer='sgd', loss='binary_crossentropy', metrics=['accuracy'])\n",
        "\"\"\"\n",
        "\n",
        "# a simple model. accuracy in bonn dataset = val_acc: 0.9667\n",
        "\n",
        "model = tf.keras.models.Sequential([\n",
        "    tf.keras.layers.Conv2D(32, (3,3), activation='relu', input_shape=(224, 224, 3)),\n",
        "    tf.keras.layers.MaxPooling2D(2,2),\n",
        "    tf.keras.layers.Conv2D(32, (3,3), activation='relu'),\n",
        "    tf.keras.layers.MaxPooling2D(2,2),\n",
        "    tf.keras.layers.Conv2D(64, (2,2), activation='relu'),\n",
        "    tf.keras.layers.MaxPooling2D(2,2),\n",
        "    tf.keras.layers.Flatten(),\n",
        "    tf.keras.layers.Dense(512, activation='relu'),\n",
        "    tf.keras.layers.Dense(1, activation='sigmoid')\n",
        "])\n",
        "\n",
        "\n",
        "\n",
        "\n",
        "#Customized Adam Optimizer\n",
        "\"\"\"\n",
        "tf.keras.optimizers.Adam(\n",
        "    learning_rate=0.00001, beta_1=0.9, beta_2=0.999, epsilon=1e-07, amsgrad=False,\n",
        "    name='Adam',\n",
        ")\n",
        "\"\"\"\n",
        "\n",
        "model.compile(\n",
        "    #optimizer=RMSprop(lr=0.001),\n",
        "#    optimizer='adam',\n",
        "       # optimizer='Adam', #Our Customized Adam optimizer writes just lines above\n",
        "        optimizer='sgd',\n",
        "           # loss='categorical_crossentropy',\n",
        "              loss='binary_crossentropy',\n",
        "              #loss=tf.keras.losses.categorical_crossentropy,\n",
        "              #metrics=['accuracy'])\n",
        "              metrics=['acc'])\n",
        "\n",
        "#model.compile(optimizer=RMSprop(lr=0.001), loss='binary_crossentropy', metrics=['acc'])\n",
        "\n",
        "\n",
        "#from keras.optimizers import SGD\n",
        "#opt = SGD(lr=0.01)\n",
        "#model.compile(loss = \"categorical_crossentropy\", optimizer = opt)\n",
        "#VGG.summary()\n",
        "model.summary()"
      ]
    },
    {
      "cell_type": "code",
      "execution_count": null,
      "metadata": {
        "colab": {
          "base_uri": "https://localhost:8080/"
        },
        "id": "oXVodwQjLLn2",
        "outputId": "d1feedff-7fc3-45d9-ac3e-2578df3217f7"
      },
      "outputs": [
        {
          "output_type": "stream",
          "name": "stdout",
          "text": [
            "Found 270 images belonging to 2 classes.\n",
            "Found 30 images belonging to 2 classes.\n"
          ]
        }
      ],
      "source": [
        "\n",
        "#ex\n",
        "\"\"\"\n",
        "datagen_train = ImageDataGenerator(\n",
        "      rescale=1./255,\n",
        "      rotation_range=180,\n",
        "      width_shift_range=0.1,\n",
        "      height_shift_range=0.1,\n",
        "      shear_range=0.1,\n",
        "      zoom_range=[0.9, 1.5],\n",
        "      horizontal_flip=True,\n",
        "      vertical_flip=True,\n",
        "      fill_mode='nearest')\n",
        "\"\"\"\n",
        "#Target size is (224,224)\n",
        "TRAINING_DIR = '/content/drive/MyDrive/AEpilepsyDetection/Train/'\n",
        "train_datagen = ImageDataGenerator(rescale=1 / 255,\n",
        "                                    rotation_range=0.05,\n",
        "                                   shear_range=0.05,\n",
        "                                   zoom_range=0.05,\n",
        "                                   horizontal_flip=True,\n",
        "                                   vertical_flip=True\n",
        "                                   )\n",
        "train_generator = train_datagen.flow_from_directory(\n",
        "    TRAINING_DIR,\n",
        "    batch_size=16,\n",
        "    class_mode='binary',\n",
        "    target_size=(224, 224)\n",
        ")\n",
        "\n",
        "VALIDATION_DIR = '/content/drive/MyDrive/AEpilepsyDetection/Test/'\n",
        "validation_datagen = ImageDataGenerator(rescale= 1/255)\n",
        "validation_generator = validation_datagen.flow_from_directory(\n",
        "    VALIDATION_DIR,\n",
        "    batch_size=16,\n",
        "    class_mode='binary',\n",
        "    target_size=(224, 224)\n",
        ")\n",
        "#The data-generators will return batches of images. Because the VGG16 model is so large, the batch-size cannot be too large, otherwise you will run out of RAM on the GPU.\n",
        "\n",
        "#270 2 class\n",
        "#30 2 class"
      ]
    },
    {
      "cell_type": "code",
      "execution_count": null,
      "metadata": {
        "colab": {
          "base_uri": "https://localhost:8080/"
        },
        "id": "d7qeDNve2OSu",
        "outputId": "229cd567-46e1-47c6-c70c-809f26fd68e5"
      },
      "outputs": [
        {
          "name": "stdout",
          "output_type": "stream",
          "text": [
            "Found 300 files belonging to 2 classes.\n"
          ]
        },
        {
          "data": {
            "text/plain": [
              "<BatchDataset shapes: ((None, 224, 224, 3), (None,)), types: (tf.float32, tf.int32)>"
            ]
          },
          "execution_count": 13,
          "metadata": {},
          "output_type": "execute_result"
        }
      ],
      "source": [
        "#Skip\n",
        "directory='/content/drive/MyDrive/ASeizure_nonSeizure/'\n",
        "tf.keras.utils.image_dataset_from_directory(\n",
        "    directory, labels='inferred', label_mode='int',\n",
        "    class_names=None, color_mode='rgb', batch_size=32, image_size=(224,\n",
        "    224), shuffle=True, seed=None, validation_split=None, subset=None,\n",
        "    interpolation='bilinear', follow_links=False,\n",
        "    crop_to_aspect_ratio=False,\n",
        ")"
      ]
    },
    {
      "cell_type": "code",
      "execution_count": null,
      "metadata": {
        "colab": {
          "base_uri": "https://localhost:8080/"
        },
        "id": "4A6XdX0VMDRp",
        "outputId": "6260e979-d8e1-44f4-c73d-751d62888ff7"
      },
      "outputs": [
        {
          "output_type": "stream",
          "name": "stderr",
          "text": [
            "/usr/local/lib/python3.7/dist-packages/ipykernel_launcher.py:5: UserWarning: `Model.fit_generator` is deprecated and will be removed in a future version. Please use `Model.fit`, which supports generators.\n",
            "  \"\"\"\n"
          ]
        },
        {
          "output_type": "stream",
          "name": "stdout",
          "text": [
            "Epoch 1/50\n",
            "17/17 [==============================] - 7s 288ms/step - loss: 0.6471 - acc: 0.6370 - val_loss: 0.6399 - val_acc: 0.6667\n",
            "Epoch 2/50\n",
            "17/17 [==============================] - 5s 279ms/step - loss: 0.6364 - acc: 0.6667 - val_loss: 0.6221 - val_acc: 0.6667\n",
            "Epoch 3/50\n",
            "17/17 [==============================] - 5s 284ms/step - loss: 0.6385 - acc: 0.6667 - val_loss: 0.6176 - val_acc: 0.6667\n",
            "Epoch 4/50\n",
            "17/17 [==============================] - 5s 281ms/step - loss: 0.6246 - acc: 0.6667 - val_loss: 0.6158 - val_acc: 0.6667\n",
            "Epoch 5/50\n",
            "17/17 [==============================] - 5s 300ms/step - loss: 0.6196 - acc: 0.6704 - val_loss: 0.6074 - val_acc: 0.6667\n",
            "Epoch 6/50\n",
            "17/17 [==============================] - 5s 317ms/step - loss: 0.6126 - acc: 0.6667 - val_loss: 0.5934 - val_acc: 0.6667\n",
            "Epoch 7/50\n",
            "17/17 [==============================] - 5s 279ms/step - loss: 0.6108 - acc: 0.6704 - val_loss: 0.5803 - val_acc: 0.6667\n",
            "Epoch 8/50\n",
            "17/17 [==============================] - 5s 275ms/step - loss: 0.5920 - acc: 0.6741 - val_loss: 0.5743 - val_acc: 0.7333\n",
            "Epoch 9/50\n",
            "17/17 [==============================] - 5s 274ms/step - loss: 0.5900 - acc: 0.6889 - val_loss: 0.5525 - val_acc: 0.7333\n",
            "Epoch 10/50\n",
            "17/17 [==============================] - 5s 276ms/step - loss: 0.5775 - acc: 0.6926 - val_loss: 0.5351 - val_acc: 0.7333\n",
            "Epoch 11/50\n",
            "17/17 [==============================] - 5s 282ms/step - loss: 0.5512 - acc: 0.7185 - val_loss: 0.4972 - val_acc: 0.7333\n",
            "Epoch 12/50\n",
            "17/17 [==============================] - 5s 286ms/step - loss: 0.5347 - acc: 0.7481 - val_loss: 0.5577 - val_acc: 0.8667\n",
            "Epoch 13/50\n",
            "17/17 [==============================] - 5s 283ms/step - loss: 0.5187 - acc: 0.7296 - val_loss: 0.4411 - val_acc: 0.8333\n",
            "Epoch 14/50\n",
            "17/17 [==============================] - 5s 280ms/step - loss: 0.4820 - acc: 0.7963 - val_loss: 0.4286 - val_acc: 0.7333\n",
            "Epoch 15/50\n",
            "17/17 [==============================] - 5s 281ms/step - loss: 0.4925 - acc: 0.7889 - val_loss: 0.4010 - val_acc: 0.9000\n",
            "Epoch 16/50\n",
            "17/17 [==============================] - 5s 284ms/step - loss: 0.4414 - acc: 0.8185 - val_loss: 0.4508 - val_acc: 0.7333\n",
            "Epoch 17/50\n",
            "17/17 [==============================] - 5s 284ms/step - loss: 0.4446 - acc: 0.8222 - val_loss: 0.4020 - val_acc: 0.7667\n",
            "Epoch 18/50\n",
            "17/17 [==============================] - 5s 282ms/step - loss: 0.3807 - acc: 0.8481 - val_loss: 0.3654 - val_acc: 0.8333\n",
            "Epoch 19/50\n",
            "17/17 [==============================] - 5s 285ms/step - loss: 0.4020 - acc: 0.8296 - val_loss: 0.2927 - val_acc: 0.9000\n",
            "Epoch 20/50\n",
            "17/17 [==============================] - 5s 285ms/step - loss: 0.4190 - acc: 0.8148 - val_loss: 0.2953 - val_acc: 0.9000\n",
            "Epoch 21/50\n",
            "17/17 [==============================] - 5s 283ms/step - loss: 0.3565 - acc: 0.8370 - val_loss: 0.3587 - val_acc: 0.8333\n",
            "Epoch 22/50\n",
            "17/17 [==============================] - 5s 282ms/step - loss: 0.3697 - acc: 0.8259 - val_loss: 0.2654 - val_acc: 0.9000\n",
            "Epoch 23/50\n",
            "17/17 [==============================] - 5s 278ms/step - loss: 0.3691 - acc: 0.8296 - val_loss: 0.3381 - val_acc: 0.8333\n",
            "Epoch 24/50\n",
            "17/17 [==============================] - 5s 277ms/step - loss: 0.3573 - acc: 0.8444 - val_loss: 0.2575 - val_acc: 0.9333\n",
            "Epoch 25/50\n",
            "17/17 [==============================] - 5s 280ms/step - loss: 0.3286 - acc: 0.8778 - val_loss: 0.2597 - val_acc: 0.9000\n",
            "Epoch 26/50\n",
            "17/17 [==============================] - 5s 281ms/step - loss: 0.2887 - acc: 0.8593 - val_loss: 0.2264 - val_acc: 0.9333\n",
            "Epoch 27/50\n",
            "17/17 [==============================] - 5s 281ms/step - loss: 0.3479 - acc: 0.8370 - val_loss: 0.2440 - val_acc: 0.9000\n",
            "Epoch 28/50\n",
            "17/17 [==============================] - 5s 281ms/step - loss: 0.2976 - acc: 0.8852 - val_loss: 0.2701 - val_acc: 0.9000\n",
            "Epoch 29/50\n",
            "17/17 [==============================] - 5s 280ms/step - loss: 0.3194 - acc: 0.8593 - val_loss: 0.6508 - val_acc: 0.7333\n",
            "Epoch 30/50\n",
            "17/17 [==============================] - 5s 281ms/step - loss: 0.3468 - acc: 0.8593 - val_loss: 0.2440 - val_acc: 0.9333\n",
            "Epoch 31/50\n",
            "17/17 [==============================] - 5s 282ms/step - loss: 0.2627 - acc: 0.8778 - val_loss: 0.3020 - val_acc: 0.9000\n",
            "Epoch 32/50\n",
            "17/17 [==============================] - 5s 280ms/step - loss: 0.3485 - acc: 0.8333 - val_loss: 0.2242 - val_acc: 0.9667\n",
            "Epoch 33/50\n",
            "17/17 [==============================] - 5s 286ms/step - loss: 0.2713 - acc: 0.8889 - val_loss: 0.3605 - val_acc: 0.8333\n",
            "Epoch 34/50\n",
            "17/17 [==============================] - 5s 286ms/step - loss: 0.2679 - acc: 0.8815 - val_loss: 0.1915 - val_acc: 0.9667\n",
            "Epoch 35/50\n",
            "17/17 [==============================] - 5s 282ms/step - loss: 0.2475 - acc: 0.8815 - val_loss: 0.2760 - val_acc: 0.9000\n",
            "Epoch 36/50\n",
            "17/17 [==============================] - 5s 288ms/step - loss: 0.2230 - acc: 0.9185 - val_loss: 0.2098 - val_acc: 0.9333\n",
            "Epoch 37/50\n",
            "17/17 [==============================] - 5s 298ms/step - loss: 0.2261 - acc: 0.9037 - val_loss: 0.1904 - val_acc: 0.9333\n",
            "Epoch 38/50\n",
            "17/17 [==============================] - 5s 292ms/step - loss: 0.2320 - acc: 0.8926 - val_loss: 0.1987 - val_acc: 0.9667\n",
            "Epoch 39/50\n",
            "17/17 [==============================] - 5s 291ms/step - loss: 0.2394 - acc: 0.9037 - val_loss: 0.1761 - val_acc: 0.9667\n",
            "Epoch 40/50\n",
            "17/17 [==============================] - 5s 291ms/step - loss: 0.2295 - acc: 0.9074 - val_loss: 0.2016 - val_acc: 0.9333\n",
            "Epoch 41/50\n",
            "17/17 [==============================] - 5s 290ms/step - loss: 0.2475 - acc: 0.8963 - val_loss: 0.1878 - val_acc: 0.9667\n",
            "Epoch 42/50\n",
            "17/17 [==============================] - 5s 290ms/step - loss: 0.2028 - acc: 0.9333 - val_loss: 0.1724 - val_acc: 0.9667\n",
            "Epoch 43/50\n",
            "17/17 [==============================] - 5s 292ms/step - loss: 0.2459 - acc: 0.8889 - val_loss: 0.6546 - val_acc: 0.5333\n",
            "Epoch 44/50\n",
            "17/17 [==============================] - 5s 290ms/step - loss: 0.3210 - acc: 0.8630 - val_loss: 0.1851 - val_acc: 0.9667\n",
            "Epoch 45/50\n",
            "17/17 [==============================] - 5s 294ms/step - loss: 0.2432 - acc: 0.8852 - val_loss: 0.1933 - val_acc: 0.9667\n",
            "Epoch 46/50\n",
            "17/17 [==============================] - 5s 291ms/step - loss: 0.2143 - acc: 0.8963 - val_loss: 0.2156 - val_acc: 0.9333\n",
            "Epoch 47/50\n",
            "17/17 [==============================] - 5s 294ms/step - loss: 0.1754 - acc: 0.9296 - val_loss: 0.1641 - val_acc: 0.9667\n",
            "Epoch 48/50\n",
            "17/17 [==============================] - 5s 285ms/step - loss: 0.1421 - acc: 0.9556 - val_loss: 0.1618 - val_acc: 0.9667\n",
            "Epoch 49/50\n",
            "17/17 [==============================] - 5s 289ms/step - loss: 0.1992 - acc: 0.9111 - val_loss: 0.1685 - val_acc: 0.9667\n",
            "Epoch 50/50\n",
            "17/17 [==============================] - 5s 283ms/step - loss: 0.2063 - acc: 0.9148 - val_loss: 0.1837 - val_acc: 0.9667\n"
          ]
        }
      ],
      "source": [
        "history = model.fit_generator(\n",
        "    train_generator,\n",
        "    epochs=50,\n",
        "    verbose=1,\n",
        "    validation_data=validation_generator\n",
        ")\n"
      ]
    },
    {
      "cell_type": "code",
      "execution_count": null,
      "metadata": {
        "colab": {
          "base_uri": "https://localhost:8080/",
          "height": 562
        },
        "id": "fMwFVmvN_kFy",
        "outputId": "badb4497-92b2-404a-d6f2-bc6d15aafe69"
      },
      "outputs": [
        {
          "data": {
            "text/plain": [
              "Text(0.5, 1.0, 'Training and validation loss')"
            ]
          },
          "execution_count": 11,
          "metadata": {},
          "output_type": "execute_result"
        },
        {
          "data": {
            "image/png": "[encoded data removed]",
            "text/plain": [
              "<Figure size 432x288 with 1 Axes>"
            ]
          },
          "metadata": {},
          "output_type": "display_data"
        },
        {
          "data": {
            "image/png": "[encoded data removed]",
            "text/plain": [
              "<Figure size 432x288 with 1 Axes>"
            ]
          },
          "metadata": {},
          "output_type": "display_data"
        }
      ],
      "source": [
        "\n",
        "%matplotlib inline\n",
        "\n",
        "import matplotlib.image  as mpimg\n",
        "import matplotlib.pyplot as plt\n",
        "\n",
        "acc=history.history['acc']\n",
        "val_acc=history.history['val_acc']\n",
        "loss=history.history['loss']\n",
        "val_loss=history.history['val_loss']\n",
        "\n",
        "epochs=range(len(acc)) \n",
        "\n",
        "\n",
        "plt.plot(epochs, acc, 'r', \"Training Accuracy\")\n",
        "plt.plot(epochs, val_acc, 'b', \"Validation Accuracy\")\n",
        "plt.title('Training and validation accuracy')\n",
        "plt.figure()\n",
        "\n",
        "plt.plot(epochs, loss, 'r', \"Training Loss\")\n",
        "plt.plot(epochs, val_loss, 'b', \"Validation Loss\")\n",
        "\n",
        "\n",
        "plt.title('Training and validation loss')\n",
        "\n"
      ]
    }
  ],
  "metadata": {
    "accelerator": "GPU",
    "colab": {
      "collapsed_sections": [],
      "name": "seizureDetection_Architecture.ipynb",
      "provenance": [],
      "authorship_tag": "ABX9TyNeMpsquXp1fjAi494angt5",
      "include_colab_link": true
    },
    "kernelspec": {
      "display_name": "Python 3",
      "name": "python3"
    },
    "language_info": {
      "name": "python"
    }
  },
  "nbformat": 4,
  "nbformat_minor": 0
}